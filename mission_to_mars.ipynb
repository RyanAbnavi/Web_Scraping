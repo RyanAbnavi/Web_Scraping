{
 "cells": [
  {
   "cell_type": "code",
   "execution_count": 1,
   "metadata": {},
   "outputs": [],
   "source": [
    "# Import BeautifulSoup\n",
    "from bs4 import BeautifulSoup"
   ]
  },
  {
   "cell_type": "code",
   "execution_count": 3,
   "metadata": {},
   "outputs": [],
   "source": [
    "# Import Splinter and set the chromedriver path\n",
    "from splinter import Browser\n",
    "executable_path = {\"executable_path\": \"chromedriver.exe\"}\n",
    "browser = Browser(\"chrome\", **executable_path, headless=False)"
   ]
  },
  {
   "cell_type": "code",
   "execution_count": 4,
   "metadata": {},
   "outputs": [],
   "source": [
    "# Visit the following URL\n",
    "url = \"https://mars.nasa.gov/news/\"\n",
    "browser.visit(url)"
   ]
  },
  {
   "cell_type": "markdown",
   "metadata": {},
   "source": [
    "# NASA Mars News\n",
    "* Scrape the [NASA Mars News Site](https://mars.nasa.gov/news/) and collect the latest News Title and Paragraph Text. Assign the text to variables that you can reference later."
   ]
  },
  {
   "cell_type": "code",
   "execution_count": 13,
   "metadata": {},
   "outputs": [
    {
     "name": "stdout",
     "output_type": "stream",
     "text": [
      "--------------------\n",
      "\u001b[1mTitle: NASA's InSight Places First Instrument on Mars\n",
      "Description: In deploying its first instrument onto the surface of Mars, the lander completes a major mission milestone.\n",
      "--------------------\n",
      "\u001b[1mTitle: InSight Engineers Have Made a Martian Rock Garden\n",
      "Description: Reconstructing Mars here on Earth lets them practice setting down the lander's science instruments.\n",
      "--------------------\n",
      "\u001b[1mTitle: Mars InSight Lander Seen in First Images from Space \n",
      "Description: Look closely, and you can make out the lander's solar panels.\n",
      "--------------------\n",
      "\u001b[1mTitle: NASA's InSight Takes Its First Selfie\n",
      "Description: Two new image mosaics detail the lander's deck and \"workspace\" — the surface where it will eventually set down its science instruments.\n",
      "--------------------\n",
      "\u001b[1mTitle: NASA InSight Lander 'Hears' Martian Winds \n",
      "Description: Vibrations picked up by two spacecraft instruments have provided the first sounds of Martian wind.\n",
      "--------------------\n",
      "\u001b[1mTitle: NASA's Mars InSight Flexes Its Arm\n",
      "Description: Now unstowed, the spacecraft's robotic arm will point a camera located on its elbow and take images of the surroundings.\n",
      "--------------------\n",
      "\u001b[1mTitle: Mars New Home 'a Large Sandbox'\n",
      "Description: With InSight safely on the surface of Mars, the mission team is busy learning more about the spacecraft's landing site.\n",
      "--------------------\n",
      "\u001b[1mTitle: NASA Hears MarCO CubeSats Loud and Clear from Mars \n",
      "Description: A pair of tiny, experimental spacecraft fulfilled their mission yesterday, relaying back near-real-time data during InSight's landing.\n",
      "--------------------\n",
      "\u001b[1mTitle: InSight Is Catching Rays on Mars\n",
      "Description: The lander has sent data indicating its solar panels are open and receiving sunlight to power its surface operations.\n",
      "--------------------\n",
      "\u001b[1mTitle: NASA InSight Lander Arrives on Martian Surface \n",
      "Description: The touchdown marks the eighth time NASA has successfully landed a spacecraft on Mars.\n",
      "--------------------\n",
      "\u001b[1mTitle: Landing Day for InSight\n",
      "Description: NASA's InSight spacecraft is on target for Mars landing at around noon PST today.\n",
      "--------------------\n",
      "\u001b[1mTitle: NASA InSight Landing on Mars: Milestones\n",
      "Description: On Nov. 26, NASA's InSight spacecraft will blaze through the Martian atmosphere and set a lander gently on the surface in less time than it takes to cook a hard-boiled egg.\n",
      "--------------------\n",
      "\u001b[1mTitle: NASA InSight Team on Course for Mars Touchdown\n",
      "Description: NASA's Mars InSight spacecraft is on track for a soft touchdown on the surface of the Red Planet on Nov. 26.\n",
      "--------------------\n",
      "\u001b[1mTitle: What Two Planetary Siblings Can Teach Us About Life\n",
      "Description: In studying Mars, NASA's InSight will reveal what makes one planet more or less suitable for life than another.\n",
      "--------------------\n",
      "\u001b[1mTitle: NASA Announces Landing Site for Mars 2020 Rover\n",
      "Description: After a five-year search, NASA has chosen Jezero Crater as the landing site for its upcoming Mars 2020 rover mission.\n",
      "--------------------\n",
      "\u001b[1mTitle: NASA to Host Media Call on Next Mars Landing Site\n",
      "Description: NASA will host a media teleconference at 9 a.m. PST (noon EST) Monday, Nov. 19, to provide details about the Mars 2020 rover’s landing site on the Red Planet.\n",
      "--------------------\n",
      "\u001b[1mTitle: How NASA Will Know When InSight Touches Down\n",
      "Description: On Nov. 26, engineers will look for a combination of signals to determine whether the next spacecraft to Mars lands safely.\n",
      "--------------------\n",
      "\u001b[1mTitle: NASA Brings Mars Landing to Viewers Everywhere\n",
      "Description: NASA's InSight lander is scheduled to touch down on the Red Planet at approximately noon PST  on Nov. 26, with a new suite of instruments to probe below the Martian surface.\n",
      "--------------------\n",
      "\u001b[1mTitle: Curiosity on the Move Again\n",
      "Description: NASA's Mars Curiosity rover drove about 197 feet over the weekend to a site called Lake Orcadie, pushing its total odometry to over 12 miles.\n",
      "--------------------\n",
      "\u001b[1mTitle: The Mars InSight Landing Site Is Just Plain Perfect\n",
      "Description: If the InSight landing zone were ice cream, it would be vanilla.\n",
      "--------------------\n",
      "\u001b[1mTitle: Five Things to Know About InSight's Mars Landing\n",
      "Description: NASA engineers will be holding their breath when their spacecraft heads into Mars' atmosphere on Nov. 26.\n",
      "--------------------\n",
      "\u001b[1mTitle: NASA Launches a New Podcast to Mars\n",
      "Description: NASA's new eight-episode series 'On a Mission' follows the InSight spacecraft on its journey to Mars and details the extraordinary challenges of landing on the Red Planet.\n",
      "--------------------\n",
      "\u001b[1mTitle: Update on Opportunity Rover Recovery Efforts\n",
      "Description: After a review of the progress of the listening campaign, NASA will continue its current strategy for attempting to make contact with the Opportunity rover for the foreseeable future.\n",
      "--------------------\n",
      "\u001b[1mTitle: Third ASPIRE Test Confirms Mars 2020 Parachute a Go\n",
      "Description: The supersonic parachute that will handle the heaviest payload yet to the Red Planet – Mars 2020 rover – passes its final sounding rocket test with flying colors.\n",
      "--------------------\n",
      "\u001b[1mTitle: NASA to Host Briefing on November Mars InSight Landing\n",
      "Description: A briefing on NASA's upcoming InSight Mars landing will air on Wed. Oct. 31 at 1:30 p.m. EDT (10:30 a.m. PDT) on NASA TV, the agency's website and NASA InSight Facebook Page.\n",
      "--------------------\n",
      "\u001b[1mTitle: NASA's InSight Will Study Mars While Standing Still\n",
      "Description: The lander's unique science can teach us how planets are born.\n",
      "--------------------\n",
      "\u001b[1mTitle: NASA's First Image of Mars from a CubeSat\n",
      "Description: The image was produced by one of the twin briefcase-sized MarCO spacecraft, the first CubeSats to fly to deep space.\n",
      "--------------------\n",
      "\u001b[1mTitle: The 'Claw Game' on Mars: NASA InSight Plays to Win\n",
      "Description: NASA's InSight lander will be the first mission to use a robotic arm to grasp instruments from the spacecraft and place them on the surface of another planet. \n",
      "--------------------\n",
      "\u001b[1mTitle: Scientists to Debate Landing Site for Next Mars Rover\n",
      "Description: Hundreds of scientists and Mars-exploration enthusiasts gather this week to present, discuss and deliberate the future landing site for NASA's next Red Planet. \n",
      "--------------------\n",
      "\u001b[1mTitle: Mars Virtual Reality Software Wins NASA Award\n",
      "Description: A mixed-reality software that allows scientists and engineers to virtually walk on Mars has received NASA's 2018 Software of the Year Award.\n",
      "--------------------\n",
      "\u001b[1mTitle: Painting Cars for Mars\n",
      "Description: What does NASA do to get a rover ready for Mars? JPL's paint shop does a thousand different paint jobs a year. And while every piece of spacecraft that comes through the shop is important, one headed for the Red Planet adds a little extra oomph.\n",
      "--------------------\n",
      "\u001b[1mTitle: Opportunity Emerges in a Dusty Picture\n",
      "Description: NASA still hasn't heard from the Opportunity rover, but at least the agency can see it again.\n",
      "--------------------\n",
      "\u001b[1mTitle: NASA Seeking Partner in Contest to Name Next Mars Rover\n",
      "Description: NASA has a class assignment for corporations, nonprofits and educational organizations involved in science and space exploration: partner with the agency to inspire future engineers and scientists by sponsoring a contest to name the next rover to venture to the Red Planet.\n",
      "--------------------\n",
      "\u001b[1mTitle: NASA's MAVEN Selfie Marks Four Years in Orbit at Mars\n",
      "Description: NASA’s MAVEN spacecraft celebrates four years in Mars orbit with a selfie.\n",
      "--------------------\n",
      "\u001b[1mTitle: MarCO Makes Space for Small Explorers\n",
      "Description: A pair of NASA CubeSats flying to Mars are opening a new frontier for small spacecraft.\n",
      "--------------------\n",
      "\u001b[1mTitle: Curiosity Surveys a Mystery Under Dusty Skies\n",
      "Description: NASA's Curiosity rover surveyed its surroundings on Mars, producing a 360-degree panorama of its current location on Vera Rubin Ridge.\n",
      "--------------------\n",
      "\u001b[1mTitle: NASA's InSight Has a Thermometer for Mars\n",
      "Description: The mission's heat probe could reveal how the planet's towering volcanoes formed.\n",
      "--------------------\n",
      "\u001b[1mTitle: Digital Creators: Apply for NASA Mars Landing Event\n",
      "Description: Up to 30 multimedia participants will be selected for a special two-day event at JPL culminating in the InSight spacecraft's landing on Mars. Apply by Sept. 3.\n",
      "--------------------\n",
      "\u001b[1mTitle: NASA's InSight Passes Halfway to Mars, Instruments Check In\n",
      "Description: NASA's InSight spacecraft, en route to a Nov. 26 landing on Mars, passed the halfway mark on Aug. 6. All of its instruments have been tested and are working well.\n",
      "--------------------\n",
      "\u001b[1mTitle: Six Things About Opportunity's Recovery Efforts\n",
      "Description: The global dust storm on Mars could soon let in enough sunlight for the Opportunity rover to recharge.\n"
     ]
    }
   ],
   "source": [
    "# Scrape the browser into soup and use soup to find the NASA Mars News\n",
    "html = browser.html\n",
    "soup = BeautifulSoup(html, 'html.parser')\n",
    "results = soup.find_all(\"li\", class_=\"slide\")\n",
    "\n",
    "for result in results:\n",
    "    news_title = result.find(\"div\", class_ = \"content_title\").a.text\n",
    "    news_p = result.find(\"div\", class_ = \"article_teaser_body\").text\n",
    "    post = {\n",
    "        \"Title\":news_title,\n",
    "        \"Description\": news_p\n",
    "    }\n",
    "    print(\"-\"*20)\n",
    "    print('\\033[1m'\"Title:\",news_title)\n",
    "    print(\"Description:\", news_p)\n"
   ]
  },
  {
   "cell_type": "markdown",
   "metadata": {},
   "source": [
    "# JPL Mars Space Images - Featured Image\n",
    "\n",
    "* Visit the url for JPL Featured Space Image [here](https://www.jpl.nasa.gov/spaceimages/?search=&category=Mars).\n",
    "\n",
    "* Use splinter to navigate the site and find the image url for the current Featured Mars Image and assign the url string to a variable called `featured_image_url`.\n",
    "\n",
    "* Make sure to find the image url to the full size `.jpg` image.\n",
    "\n",
    "* Make sure to save a complete url string f\n"
   ]
  },
  {
   "cell_type": "code",
   "execution_count": 14,
   "metadata": {},
   "outputs": [],
   "source": [
    "# Visit the following URL\n",
    "url = \"https://www.jpl.nasa.gov/spaceimages/?search=&category=Mars\"\n",
    "browser.visit(url)"
   ]
  },
  {
   "cell_type": "code",
   "execution_count": 24,
   "metadata": {},
   "outputs": [
    {
     "name": "stdout",
     "output_type": "stream",
     "text": [
      "https://www.jpl.nasa.gov/spaceimages/images/wallpaper/PIA17550-1920x1200.jpg\n"
     ]
    }
   ],
   "source": [
    "# Scrape the browser into soup and use soup to find the image url\n",
    "html = browser.html\n",
    "soup = BeautifulSoup(html, 'html.parser')\n",
    "featured_image_url = \"https://www.jpl.nasa.gov\"+soup.find(\"article\")['style'].split(\"('\", 1)[1].split(\"')\")[0]\n",
    "print(featured_image_url)"
   ]
  },
  {
   "cell_type": "markdown",
   "metadata": {},
   "source": [
    "# Mars Weather\n",
    "\n",
    "* Visit the Mars Weather twitter account [here](https://twitter.com/marswxreport?lang=en) and scrape the latest Mars weather tweet from the page. Save the tweet text for the weather report as a variable called `mars_weather`.\n"
   ]
  },
  {
   "cell_type": "code",
   "execution_count": 25,
   "metadata": {},
   "outputs": [],
   "source": [
    "# Visit the following URL\n",
    "url = \"https://twitter.com/marswxreport?lang=en\"\n",
    "browser.visit(url)"
   ]
  },
  {
   "cell_type": "code",
   "execution_count": 42,
   "metadata": {},
   "outputs": [
    {
     "name": "stdout",
     "output_type": "stream",
     "text": [
      "********************\n",
      "Sol 2291 (2019-01-16), high -8C/17F, low -70C/-93F, pressure at 8.23 hPa, daylight 06:46-18:55pic.twitter.com/IRiqxlJqvT\n",
      "********************\n",
      "Sol 2290 (2019-01-15), high -10C/14F, low -69C/-92F, pressure at 8.21 hPa, daylight 06:45-18:55\n",
      "********************\n",
      "Sol 2289 (2019-01-14), high -8C/17F, low -69C/-92F, pressure at 8.22 hPa, daylight 06:45-18:55pic.twitter.com/bn5wByHaxf\n",
      "********************\n",
      "Sol 2288 (2019-01-12), high -7C/19F, low -68C/-90F, pressure at 8.23 hPa, daylight 06:45-18:55pic.twitter.com/Or8q1l3tka\n",
      "********************\n",
      "Sol 2287 (2019-01-11), high -7C/19F, low -69C/-92F, pressure at 8.21 hPa, daylight 06:45-18:55\n",
      "********************\n",
      "Sol 2286 (2019-01-10), high -8C/17F, low -68C/-90F, pressure at 8.22 hPa, daylight 06:45-18:55\n",
      "********************\n",
      "Sol 2285 (2019-01-09), high -8C/17F, low -69C/-92F, pressure at 8.23 hPa, daylight 06:45-18:55\n",
      "********************\n",
      "Sol 2284 (2019-01-08), high -7C/19F, low -70C/-93F, pressure at 8.29 hPa, daylight 06:44-18:55\n",
      "********************\n",
      "Sol 2283 (2019-01-07), high -9C/15F, low -71C/-95F, pressure at 8.25 hPa, daylight 06:44-18:55\n",
      "********************\n",
      "Sol 2282 (2019-01-06), high -5C/23F, low -71C/-95F, pressure at 8.30 hPa, daylight 06:44-18:55\n",
      "********************\n",
      "Sol 2281 (2019-01-05), high -6C/21F, low -71C/-95F, pressure at 8.26 hPa, daylight 06:44-18:55\n",
      "********************\n",
      "Sol 2280 (2019-01-04), high -9C/15F, low -71C/-95F, pressure at 8.34 hPa, daylight 06:44-18:55\n",
      "********************\n",
      "Sol 2279 (2019-01-03), high -8C/17F, low -71C/-95F, pressure at 8.30 hPa, daylight 06:43-18:55\n",
      "********************\n",
      "Sol 2278 (2019-01-02), high -5C/23F, low -71C/-95F, pressure at 8.28 hPa, daylight 06:43-18:54\n",
      "********************\n",
      "Sol 2277 (2019-01-01), high -5C/23F, low -71C/-95F, pressure at 8.31 hPa, daylight 06:43-18:54\n",
      "********************\n",
      "Sol 2276 (2018-12-31), high -6C/21F, low -70C/-93F, pressure at 8.30 hPa, daylight 06:43-18:54\n",
      "********************\n",
      "Sol 2275 (2018-12-30), high -7C/19F, low -71C/-95F, pressure at 8.34 hPa, daylight 06:42-18:54\n",
      "********************\n",
      "Sol 2274 (2018-12-29), high -5C/23F, low -74C/-101F, pressure at 8.28 hPa, daylight 06:42-18:54\n",
      "********************\n",
      "Sol 2273 (2018-12-28), high -5C/23F, low -71C/-95F, pressure at 8.34 hPa, daylight 06:42-18:54\n",
      "********************\n",
      "Sol 2272 (2018-12-27), high -4C/24F, low -73C/-99F, pressure at 8.31 hPa, daylight 06:42-18:54\n"
     ]
    }
   ],
   "source": [
    "# Scrape the browser into soup and use soup to find the Mars wather tweets\n",
    "html = browser.html\n",
    "soup = BeautifulSoup(html, 'html.parser')\n",
    "tweets = soup.find_all(\"li\", class_=\"js-stream-item\")\n",
    "\n",
    "for tweet in tweets:\n",
    "    mars_weather = tweet.find(\"p\", class_=\"TweetTextSize TweetTextSize--normal js-tweet-text tweet-text\").text        \n",
    "    \n",
    "    print(\"*\"*20)\n",
    "    print(mars_weather)"
   ]
  },
  {
   "cell_type": "markdown",
   "metadata": {},
   "source": [
    "# Mars Facts\n",
    "\n",
    "* Visit the Mars Facts webpage [here](http://space-facts.com/mars/) and use Pandas to scrape the table containing facts about the planet including Diameter, Mass, etc.\n",
    "\n",
    "* Use Pandas to convert the data to a HTML table string.\n"
   ]
  },
  {
   "cell_type": "code",
   "execution_count": 61,
   "metadata": {},
   "outputs": [],
   "source": [
    "# Import dependency\n",
    "import pandas as pd\n",
    "\n",
    "url = 'https://space-facts.com/mars/'\n",
    "\n",
    "tables = pd.read_html(url)\n"
   ]
  },
  {
   "cell_type": "code",
   "execution_count": 67,
   "metadata": {},
   "outputs": [
    {
     "data": {
      "text/html": [
       "<style  type=\"text/css\" >\n",
       "    #T_a1dd33f0_1ddb_11e9_a6cb_a4db30fbf1bbrow0_col0 {\n",
       "            text-align:  right;\n",
       "        }    #T_a1dd33f0_1ddb_11e9_a6cb_a4db30fbf1bbrow1_col0 {\n",
       "            text-align:  right;\n",
       "        }    #T_a1dd33f0_1ddb_11e9_a6cb_a4db30fbf1bbrow2_col0 {\n",
       "            text-align:  right;\n",
       "        }    #T_a1dd33f0_1ddb_11e9_a6cb_a4db30fbf1bbrow3_col0 {\n",
       "            text-align:  right;\n",
       "        }    #T_a1dd33f0_1ddb_11e9_a6cb_a4db30fbf1bbrow4_col0 {\n",
       "            text-align:  right;\n",
       "        }    #T_a1dd33f0_1ddb_11e9_a6cb_a4db30fbf1bbrow5_col0 {\n",
       "            text-align:  right;\n",
       "        }    #T_a1dd33f0_1ddb_11e9_a6cb_a4db30fbf1bbrow6_col0 {\n",
       "            text-align:  right;\n",
       "        }    #T_a1dd33f0_1ddb_11e9_a6cb_a4db30fbf1bbrow7_col0 {\n",
       "            text-align:  right;\n",
       "        }    #T_a1dd33f0_1ddb_11e9_a6cb_a4db30fbf1bbrow8_col0 {\n",
       "            text-align:  right;\n",
       "        }</style>  \n",
       "<table id=\"T_a1dd33f0_1ddb_11e9_a6cb_a4db30fbf1bb\" > \n",
       "<thead>    <tr> \n",
       "        <th class=\"blank level0\" ></th> \n",
       "        <th class=\"col_heading level0 col0\" >Value</th> \n",
       "    </tr>    <tr> \n",
       "        <th class=\"index_name level0\" >Description</th> \n",
       "        <th class=\"blank\" ></th> \n",
       "    </tr></thead> \n",
       "<tbody>    <tr> \n",
       "        <th id=\"T_a1dd33f0_1ddb_11e9_a6cb_a4db30fbf1bblevel0_row0\" class=\"row_heading level0 row0\" >Equatorial Diameter:</th> \n",
       "        <td id=\"T_a1dd33f0_1ddb_11e9_a6cb_a4db30fbf1bbrow0_col0\" class=\"data row0 col0\" >6,792 km</td> \n",
       "    </tr>    <tr> \n",
       "        <th id=\"T_a1dd33f0_1ddb_11e9_a6cb_a4db30fbf1bblevel0_row1\" class=\"row_heading level0 row1\" >Polar Diameter:</th> \n",
       "        <td id=\"T_a1dd33f0_1ddb_11e9_a6cb_a4db30fbf1bbrow1_col0\" class=\"data row1 col0\" >6,752 km</td> \n",
       "    </tr>    <tr> \n",
       "        <th id=\"T_a1dd33f0_1ddb_11e9_a6cb_a4db30fbf1bblevel0_row2\" class=\"row_heading level0 row2\" >Mass:</th> \n",
       "        <td id=\"T_a1dd33f0_1ddb_11e9_a6cb_a4db30fbf1bbrow2_col0\" class=\"data row2 col0\" >6.42 x 10^23 kg (10.7% Earth)</td> \n",
       "    </tr>    <tr> \n",
       "        <th id=\"T_a1dd33f0_1ddb_11e9_a6cb_a4db30fbf1bblevel0_row3\" class=\"row_heading level0 row3\" >Moons:</th> \n",
       "        <td id=\"T_a1dd33f0_1ddb_11e9_a6cb_a4db30fbf1bbrow3_col0\" class=\"data row3 col0\" >2 (Phobos & Deimos)</td> \n",
       "    </tr>    <tr> \n",
       "        <th id=\"T_a1dd33f0_1ddb_11e9_a6cb_a4db30fbf1bblevel0_row4\" class=\"row_heading level0 row4\" >Orbit Distance:</th> \n",
       "        <td id=\"T_a1dd33f0_1ddb_11e9_a6cb_a4db30fbf1bbrow4_col0\" class=\"data row4 col0\" >227,943,824 km (1.52 AU)</td> \n",
       "    </tr>    <tr> \n",
       "        <th id=\"T_a1dd33f0_1ddb_11e9_a6cb_a4db30fbf1bblevel0_row5\" class=\"row_heading level0 row5\" >Orbit Period:</th> \n",
       "        <td id=\"T_a1dd33f0_1ddb_11e9_a6cb_a4db30fbf1bbrow5_col0\" class=\"data row5 col0\" >687 days (1.9 years)</td> \n",
       "    </tr>    <tr> \n",
       "        <th id=\"T_a1dd33f0_1ddb_11e9_a6cb_a4db30fbf1bblevel0_row6\" class=\"row_heading level0 row6\" >Surface Temperature:</th> \n",
       "        <td id=\"T_a1dd33f0_1ddb_11e9_a6cb_a4db30fbf1bbrow6_col0\" class=\"data row6 col0\" >-153 to 20 °C</td> \n",
       "    </tr>    <tr> \n",
       "        <th id=\"T_a1dd33f0_1ddb_11e9_a6cb_a4db30fbf1bblevel0_row7\" class=\"row_heading level0 row7\" >First Record:</th> \n",
       "        <td id=\"T_a1dd33f0_1ddb_11e9_a6cb_a4db30fbf1bbrow7_col0\" class=\"data row7 col0\" >2nd millennium BC</td> \n",
       "    </tr>    <tr> \n",
       "        <th id=\"T_a1dd33f0_1ddb_11e9_a6cb_a4db30fbf1bblevel0_row8\" class=\"row_heading level0 row8\" >Recorded By:</th> \n",
       "        <td id=\"T_a1dd33f0_1ddb_11e9_a6cb_a4db30fbf1bbrow8_col0\" class=\"data row8 col0\" >Egyptian astronomers</td> \n",
       "    </tr></tbody> \n",
       "</table> "
      ],
      "text/plain": [
       "<pandas.io.formats.style.Styler at 0x1bc7cfe1940>"
      ]
     },
     "execution_count": 67,
     "metadata": {},
     "output_type": "execute_result"
    }
   ],
   "source": [
    "# creating the desired dataframe using the \"tables\"\n",
    "mars_fact  = tables[0]\n",
    "mars_fact.columns = [\"Description\", \"Value\"]\n",
    "mars_fact = mars_fact.set_index(\"Description\")\n",
    "mars_fact.style.set_properties(**{'text-align': 'right'})\n"
   ]
  },
  {
   "cell_type": "code",
   "execution_count": 66,
   "metadata": {},
   "outputs": [
    {
     "data": {
      "text/plain": [
       "'<table border=\"1\" class=\"dataframe\">  <thead>    <tr style=\"text-align: right;\">      <th></th>      <th>Amount</th>    </tr>    <tr>      <th>Parameter</th>      <th></th>    </tr>  </thead>  <tbody>    <tr>      <th>Equatorial Diameter:</th>      <td>6,792 km</td>    </tr>    <tr>      <th>Polar Diameter:</th>      <td>6,752 km</td>    </tr>    <tr>      <th>Mass:</th>      <td>6.42 x 10^23 kg (10.7% Earth)</td>    </tr>    <tr>      <th>Moons:</th>      <td>2 (Phobos &amp; Deimos)</td>    </tr>    <tr>      <th>Orbit Distance:</th>      <td>227,943,824 km (1.52 AU)</td>    </tr>    <tr>      <th>Orbit Period:</th>      <td>687 days (1.9 years)</td>    </tr>    <tr>      <th>Surface Temperature:</th>      <td>-153 to 20 °C</td>    </tr>    <tr>      <th>First Record:</th>      <td>2nd millennium BC</td>    </tr>    <tr>      <th>Recorded By:</th>      <td>Egyptian astronomers</td>    </tr>  </tbody></table>'"
      ]
     },
     "execution_count": 66,
     "metadata": {},
     "output_type": "execute_result"
    }
   ],
   "source": [
    "# generate HTML tables from DataFrames\n",
    "html_table = mars_fact.to_html()\n",
    "html_table.replace('\\n', '')"
   ]
  },
  {
   "cell_type": "markdown",
   "metadata": {},
   "source": [
    "# Mars Hemispheres\n",
    "\n",
    "* Visit the USGS Astrogeology site [here](https://astrogeology.usgs.gov/search/results?q=hemisphere+enhanced&k1=target&v1=Mars) to obtain high resolution images for each of Mar's hemispheres.\n",
    "\n",
    "* You will need to click each of the links to the hemispheres in order to find the image url to the full resolution image.\n",
    "\n",
    "* Save both the image url string for the full resolution hemisphere image, and the Hemisphere title containing the hemisphere name. Use a Python dictionary to store the data using the keys `img_url` and `title`.\n",
    "\n",
    "* Append the dictionary with the image url string and the hemisphere title to a list. This list will contain one dictionary for each hemisphere.\n"
   ]
  },
  {
   "cell_type": "code",
   "execution_count": 70,
   "metadata": {},
   "outputs": [],
   "source": [
    "# Visit the url\n",
    "url = \"https://astrogeology.usgs.gov/search/results?q=hemisphere+enhanced&k1=target&v1=Mars\"\n",
    "browser.visit(url)\n",
    "\n",
    "# Scrape page into soup\n",
    "html = browser.html\n",
    "soup = BeautifulSoup(html, \"html.parser\")\n",
    "\n",
    "# hemisphere_image_url_1\n",
    "\n",
    "results = soup.find_all(\"div\", class_='description')\n",
    "# print(results)\n",
    "\n",
    "mars_data = []\n",
    "mars_dict = {}\n",
    "\n",
    "for result in results:\n",
    "\n",
    "    image_url_loc=\"https://astrogeology.usgs.gov\"+result.find(\"a\", href=True)[\"href\"]\n",
    "#     print(image_url_loc)\n",
    "\n",
    "    # Visit the url\n",
    "    browser.visit(image_url_loc)\n",
    "\n",
    "    # Scrape page into soup\n",
    "    html = browser.html\n",
    "    soup1 = BeautifulSoup(html, \"html.parser\")\n",
    "\n",
    "    image_url =\"https://astrogeology.usgs.gov\" + soup1.find(\"img\", class_='wide-image')['src']\n",
    "#     print(image_url)\n",
    "    \n",
    "    title=result.find(\"h3\").text\n",
    "#     print(title)\n",
    "\n",
    "    mars_dict = {\n",
    "        \"title\": title,\n",
    "        \"img_url\" : image_url\n",
    "    }\n",
    "    \n",
    "    mars_data.append(mars_dict)"
   ]
  },
  {
   "cell_type": "code",
   "execution_count": null,
   "metadata": {},
   "outputs": [],
   "source": []
  },
  {
   "cell_type": "code",
   "execution_count": null,
   "metadata": {
    "collapsed": true
   },
   "outputs": [],
   "source": []
  }
 ],
 "metadata": {
  "kernelspec": {
   "display_name": "Python 3",
   "language": "python",
   "name": "python3"
  },
  "language_info": {
   "codemirror_mode": {
    "name": "ipython",
    "version": 3
   },
   "file_extension": ".py",
   "mimetype": "text/x-python",
   "name": "python",
   "nbconvert_exporter": "python",
   "pygments_lexer": "ipython3",
   "version": "3.7.1"
  },
  "varInspector": {
   "cols": {
    "lenName": 16,
    "lenType": 16,
    "lenVar": 40
   },
   "kernels_config": {
    "python": {
     "delete_cmd_postfix": "",
     "delete_cmd_prefix": "del ",
     "library": "var_list.py",
     "varRefreshCmd": "print(var_dic_list())"
    },
    "r": {
     "delete_cmd_postfix": ") ",
     "delete_cmd_prefix": "rm(",
     "library": "var_list.r",
     "varRefreshCmd": "cat(var_dic_list()) "
    }
   },
   "types_to_exclude": [
    "module",
    "function",
    "builtin_function_or_method",
    "instance",
    "_Feature"
   ],
   "window_display": false
  }
 },
 "nbformat": 4,
 "nbformat_minor": 2
}
